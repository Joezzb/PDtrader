{
 "cells": [
  {
   "cell_type": "code",
   "execution_count": 1,
   "metadata": {},
   "outputs": [],
   "source": [
    "import baostock as bs\n",
    "import pandas as pd\n",
    "import numpy as np\n",
    "import dataloader as dal\n",
    "import copy"
   ]
  },
  {
   "cell_type": "code",
   "execution_count": 2,
   "metadata": {},
   "outputs": [],
   "source": [
    "years = [2014,2015,2016,2017,2018,2019,2020,2021,2022]\n",
    "month = (['03' ,'10'])"
   ]
  },
  {
   "cell_type": "code",
   "execution_count": 9,
   "metadata": {},
   "outputs": [
    {
     "name": "stdout",
     "output_type": "stream",
     "text": [
      "login success!\n",
      "login respond error_code:0\n",
      "login respond  error_msg:success\n",
      "query_hs300 error_code:0\n",
      "query_hs300  error_msg:success\n",
      "query_hs300 error_code:0\n",
      "query_hs300  error_msg:success\n",
      "query_hs300 error_code:0\n",
      "query_hs300  error_msg:success\n",
      "query_hs300 error_code:0\n",
      "query_hs300  error_msg:success\n",
      "query_hs300 error_code:0\n",
      "query_hs300  error_msg:success\n",
      "query_hs300 error_code:0\n",
      "query_hs300  error_msg:success\n",
      "query_hs300 error_code:0\n",
      "query_hs300  error_msg:success\n",
      "query_hs300 error_code:0\n",
      "query_hs300  error_msg:success\n",
      "query_hs300 error_code:0\n",
      "query_hs300  error_msg:success\n",
      "query_hs300 error_code:0\n",
      "query_hs300  error_msg:success\n",
      "query_hs300 error_code:0\n",
      "query_hs300  error_msg:success\n",
      "query_hs300 error_code:0\n",
      "query_hs300  error_msg:success\n",
      "query_hs300 error_code:0\n",
      "query_hs300  error_msg:success\n",
      "query_hs300 error_code:0\n",
      "query_hs300  error_msg:success\n",
      "query_hs300 error_code:0\n",
      "query_hs300  error_msg:success\n",
      "query_hs300 error_code:0\n",
      "query_hs300  error_msg:success\n",
      "query_hs300 error_code:0\n",
      "query_hs300  error_msg:success\n",
      "query_hs300 error_code:0\n",
      "query_hs300  error_msg:success\n",
      "      updateDate       code code_name\n",
      "0     2014-03-10  sh.600000      浦发银行\n",
      "1     2014-03-10  sh.600008      首创股份\n",
      "2     2014-03-10  sh.600009      上海机场\n",
      "3     2014-03-10  sh.600010      包钢股份\n",
      "4     2014-03-10  sh.600011      华能国际\n",
      "...          ...        ...       ...\n",
      "5395  2022-08-01  sz.300896       爱美客\n",
      "5396  2022-08-01  sz.300919      中伟股份\n",
      "5397  2022-08-01  sz.300957       贝泰妮\n",
      "5398  2022-08-01  sz.300979      华利集团\n",
      "5399  2022-08-01  sz.300999       金龙鱼\n",
      "\n",
      "[5400 rows x 3 columns]\n",
      "logout success!\n"
     ]
    },
    {
     "data": {
      "text/plain": [
       "<baostock.data.resultset.ResultData at 0x1ad09145e50>"
      ]
     },
     "execution_count": 9,
     "metadata": {},
     "output_type": "execute_result"
    }
   ],
   "source": [
    "# 登陆系统\n",
    "lg = bs.login()\n",
    "# 显示登陆返回信息\n",
    "print('login respond error_code:'+lg.error_code)\n",
    "print('login respond  error_msg:'+lg.error_msg)\n",
    "\n",
    "# 打印结果集\n",
    "hs300_stocks = []\n",
    "# 获取沪深300成分股\n",
    "for i in years:\n",
    "    for j in month:\n",
    "        rs = bs.query_hs300_stocks(str(i)+'-'+j+'-15')\n",
    "        print('query_hs300 error_code:'+rs.error_code)\n",
    "        print('query_hs300  error_msg:'+rs.error_msg)\n",
    "        while (rs.error_code == '0') & rs.next():\n",
    "            # 获取一条记录，将记录合并在一起\n",
    "            hs300_stocks.append(rs.get_row_data())\n",
    "        result = pd.DataFrame(hs300_stocks, columns=rs.fields)\n",
    "# 结果集输出到csv文件\n",
    "result.to_csv(\"D:/hs300_stocks.csv\", encoding=\"gbk\", index=False)\n",
    "print(result)\n",
    "\n",
    "# 登出系统\n",
    "bs.logout()"
   ]
  },
  {
   "cell_type": "code",
   "execution_count": 2,
   "metadata": {},
   "outputs": [],
   "source": [
    "tdt = pd.to_datetime"
   ]
  },
  {
   "cell_type": "code",
   "execution_count": 3,
   "metadata": {},
   "outputs": [
    {
     "data": {
      "text/html": [
       "<div>\n",
       "<style scoped>\n",
       "    .dataframe tbody tr th:only-of-type {\n",
       "        vertical-align: middle;\n",
       "    }\n",
       "\n",
       "    .dataframe tbody tr th {\n",
       "        vertical-align: top;\n",
       "    }\n",
       "\n",
       "    .dataframe thead th {\n",
       "        text-align: right;\n",
       "    }\n",
       "</style>\n",
       "<table border=\"1\" class=\"dataframe\">\n",
       "  <thead>\n",
       "    <tr style=\"text-align: right;\">\n",
       "      <th></th>\n",
       "      <th>date</th>\n",
       "      <th>code</th>\n",
       "      <th>name</th>\n",
       "    </tr>\n",
       "  </thead>\n",
       "  <tbody>\n",
       "    <tr>\n",
       "      <th>0</th>\n",
       "      <td>2014-03-10</td>\n",
       "      <td>600000</td>\n",
       "      <td>浦发银行</td>\n",
       "    </tr>\n",
       "    <tr>\n",
       "      <th>1</th>\n",
       "      <td>2014-03-10</td>\n",
       "      <td>600008</td>\n",
       "      <td>首创股份</td>\n",
       "    </tr>\n",
       "    <tr>\n",
       "      <th>2</th>\n",
       "      <td>2014-03-10</td>\n",
       "      <td>600009</td>\n",
       "      <td>上海机场</td>\n",
       "    </tr>\n",
       "    <tr>\n",
       "      <th>3</th>\n",
       "      <td>2014-03-10</td>\n",
       "      <td>600010</td>\n",
       "      <td>包钢股份</td>\n",
       "    </tr>\n",
       "    <tr>\n",
       "      <th>4</th>\n",
       "      <td>2014-03-10</td>\n",
       "      <td>600011</td>\n",
       "      <td>华能国际</td>\n",
       "    </tr>\n",
       "    <tr>\n",
       "      <th>...</th>\n",
       "      <td>...</td>\n",
       "      <td>...</td>\n",
       "      <td>...</td>\n",
       "    </tr>\n",
       "    <tr>\n",
       "      <th>5395</th>\n",
       "      <td>2022-08-01</td>\n",
       "      <td>300896</td>\n",
       "      <td>爱美客</td>\n",
       "    </tr>\n",
       "    <tr>\n",
       "      <th>5396</th>\n",
       "      <td>2022-08-01</td>\n",
       "      <td>300919</td>\n",
       "      <td>中伟股份</td>\n",
       "    </tr>\n",
       "    <tr>\n",
       "      <th>5397</th>\n",
       "      <td>2022-08-01</td>\n",
       "      <td>300957</td>\n",
       "      <td>贝泰妮</td>\n",
       "    </tr>\n",
       "    <tr>\n",
       "      <th>5398</th>\n",
       "      <td>2022-08-01</td>\n",
       "      <td>300979</td>\n",
       "      <td>华利集团</td>\n",
       "    </tr>\n",
       "    <tr>\n",
       "      <th>5399</th>\n",
       "      <td>2022-08-01</td>\n",
       "      <td>300999</td>\n",
       "      <td>金龙鱼</td>\n",
       "    </tr>\n",
       "  </tbody>\n",
       "</table>\n",
       "<p>5400 rows × 3 columns</p>\n",
       "</div>"
      ],
      "text/plain": [
       "            date    code  name\n",
       "0     2014-03-10  600000  浦发银行\n",
       "1     2014-03-10  600008  首创股份\n",
       "2     2014-03-10  600009  上海机场\n",
       "3     2014-03-10  600010  包钢股份\n",
       "4     2014-03-10  600011  华能国际\n",
       "...          ...     ...   ...\n",
       "5395  2022-08-01  300896   爱美客\n",
       "5396  2022-08-01  300919  中伟股份\n",
       "5397  2022-08-01  300957   贝泰妮\n",
       "5398  2022-08-01  300979  华利集团\n",
       "5399  2022-08-01  300999   金龙鱼\n",
       "\n",
       "[5400 rows x 3 columns]"
      ]
     },
     "execution_count": 3,
     "metadata": {},
     "output_type": "execute_result"
    }
   ],
   "source": [
    "slist = pd.read_csv('hs300_stocks.csv',encoding='gbk')\n",
    "slist.code = slist.code.apply(lambda x : x[3:])\n",
    "slist.columns = ['date','code','name']\n",
    "slist"
   ]
  },
  {
   "cell_type": "code",
   "execution_count": 4,
   "metadata": {},
   "outputs": [
    {
     "data": {
      "text/plain": [
       "array(['2014-03-10', '2014-10-13', '2015-03-09', '2015-10-12',\n",
       "       '2016-03-14', '2016-10-10', '2017-03-13', '2017-10-09',\n",
       "       '2018-03-12', '2018-10-15', '2019-03-11', '2019-10-14',\n",
       "       '2020-03-09', '2020-10-12', '2021-03-15', '2021-10-04',\n",
       "       '2022-01-17', '2022-08-01'], dtype=object)"
      ]
     },
     "execution_count": 4,
     "metadata": {},
     "output_type": "execute_result"
    }
   ],
   "source": [
    "slist.date.unique()"
   ]
  },
  {
   "cell_type": "code",
   "execution_count": 4,
   "metadata": {},
   "outputs": [
    {
     "name": "stderr",
     "output_type": "stream",
     "text": [
      "100%|██████████| 300/300 [00:07<00:00, 40.92it/s]\n",
      "  7%|▋         | 22/300 [00:00<00:01, 211.53it/s]"
     ]
    },
    {
     "name": "stdout",
     "output_type": "stream",
     "text": [
      "No data: ['600005', '600068', '600317', '600485', '002450', '300104']\n",
      "2016-03-14 end\n"
     ]
    },
    {
     "name": "stderr",
     "output_type": "stream",
     "text": [
      "100%|██████████| 300/300 [00:07<00:00, 41.17it/s]\n",
      "  7%|▋         | 22/300 [00:00<00:01, 209.90it/s]"
     ]
    },
    {
     "name": "stdout",
     "output_type": "stream",
     "text": [
      "No data: ['600005', '600068', '600074', '600317', '600485', '002450', '300104']\n",
      "2016-10-10 end\n"
     ]
    },
    {
     "name": "stderr",
     "output_type": "stream",
     "text": [
      "100%|██████████| 300/300 [00:07<00:00, 41.29it/s]\n",
      "  7%|▋         | 22/300 [00:00<00:01, 215.68it/s]"
     ]
    },
    {
     "name": "stdout",
     "output_type": "stream",
     "text": [
      "No data: ['600068', '600074', '600485', '002450', '300104']\n",
      "2017-03-13 end\n"
     ]
    },
    {
     "name": "stderr",
     "output_type": "stream",
     "text": [
      "100%|██████████| 300/300 [00:07<00:00, 39.68it/s]\n",
      "  8%|▊         | 24/300 [00:00<00:01, 227.30it/s]"
     ]
    },
    {
     "name": "stdout",
     "output_type": "stream",
     "text": [
      "No data: ['600068', '600074', '600485', '002450', '300104']\n",
      "2017-10-09 end\n"
     ]
    },
    {
     "name": "stderr",
     "output_type": "stream",
     "text": [
      "100%|██████████| 300/300 [00:08<00:00, 36.07it/s]\n",
      "  7%|▋         | 20/300 [00:00<00:01, 192.13it/s]"
     ]
    },
    {
     "name": "stdout",
     "output_type": "stream",
     "text": [
      "No data: ['600068', '600074', '600485', '002450']\n",
      "2018-03-12 end\n"
     ]
    },
    {
     "name": "stderr",
     "output_type": "stream",
     "text": [
      "100%|██████████| 300/300 [00:07<00:00, 38.73it/s]\n",
      "  7%|▋         | 21/300 [00:00<00:01, 209.41it/s]"
     ]
    },
    {
     "name": "stdout",
     "output_type": "stream",
     "text": [
      "No data: ['600068', '002450']\n",
      "2018-10-15 end\n"
     ]
    },
    {
     "name": "stderr",
     "output_type": "stream",
     "text": [
      "100%|██████████| 300/300 [00:07<00:00, 40.32it/s]\n",
      "  7%|▋         | 22/300 [00:00<00:01, 209.51it/s]"
     ]
    },
    {
     "name": "stdout",
     "output_type": "stream",
     "text": [
      "No data: ['600068', '002450']\n",
      "2019-03-11 end\n"
     ]
    },
    {
     "name": "stderr",
     "output_type": "stream",
     "text": [
      "100%|██████████| 300/300 [00:07<00:00, 39.56it/s]\n",
      "  6%|▋         | 19/300 [00:00<00:01, 182.69it/s]"
     ]
    },
    {
     "name": "stdout",
     "output_type": "stream",
     "text": [
      "No data: ['600068']\n",
      "2019-10-14 end\n"
     ]
    },
    {
     "name": "stderr",
     "output_type": "stream",
     "text": [
      "100%|██████████| 300/300 [00:07<00:00, 39.09it/s]\n",
      "  7%|▋         | 21/300 [00:00<00:01, 201.91it/s]"
     ]
    },
    {
     "name": "stdout",
     "output_type": "stream",
     "text": [
      "No data: ['600068']\n",
      "2020-03-09 end\n"
     ]
    },
    {
     "name": "stderr",
     "output_type": "stream",
     "text": [
      "100%|██████████| 300/300 [00:07<00:00, 38.98it/s]\n",
      "  8%|▊         | 23/300 [00:00<00:01, 223.29it/s]"
     ]
    },
    {
     "name": "stdout",
     "output_type": "stream",
     "text": [
      "No data: ['600068']\n",
      "2020-10-12 end\n"
     ]
    },
    {
     "name": "stderr",
     "output_type": "stream",
     "text": [
      "100%|██████████| 300/300 [00:07<00:00, 41.56it/s]\n",
      "  7%|▋         | 22/300 [00:00<00:01, 209.11it/s]"
     ]
    },
    {
     "name": "stdout",
     "output_type": "stream",
     "text": [
      "No data: ['600068']\n",
      "2021-03-15 end\n"
     ]
    },
    {
     "name": "stderr",
     "output_type": "stream",
     "text": [
      "100%|██████████| 300/300 [00:07<00:00, 41.21it/s]\n",
      "  7%|▋         | 21/300 [00:00<00:01, 205.88it/s]"
     ]
    },
    {
     "name": "stdout",
     "output_type": "stream",
     "text": [
      "No data: []\n",
      "2021-10-04 end\n"
     ]
    },
    {
     "name": "stderr",
     "output_type": "stream",
     "text": [
      "100%|██████████| 300/300 [00:06<00:00, 43.01it/s]\n",
      "  7%|▋         | 22/300 [00:00<00:01, 209.38it/s]"
     ]
    },
    {
     "name": "stdout",
     "output_type": "stream",
     "text": [
      "No data: []\n",
      "2022-01-17 end\n"
     ]
    },
    {
     "name": "stderr",
     "output_type": "stream",
     "text": [
      "100%|██████████| 300/300 [00:06<00:00, 42.94it/s]\n"
     ]
    },
    {
     "name": "stdout",
     "output_type": "stream",
     "text": [
      "No data: []\n",
      "2022-08-01 end\n"
     ]
    }
   ],
   "source": [
    "hs300 = pd.DataFrame()\n",
    "j=slist.date.unique()[3]\n",
    "for i in slist.date.unique()[4:]:\n",
    "    dl = dal.dataloader()\n",
    "    dl.slist_used = list(slist[slist.date==i].code)\n",
    "    dl.get_sdata_tdx('E:/s/tdx/',start=j,end=i)\n",
    "    hs300 = hs300.append(dl.sdata.reset_index())\n",
    "    print(i,'end')\n",
    "    j = copy.deepcopy(i)"
   ]
  },
  {
   "cell_type": "code",
   "execution_count": 5,
   "metadata": {},
   "outputs": [
    {
     "data": {
      "text/html": [
       "<div>\n",
       "<style scoped>\n",
       "    .dataframe tbody tr th:only-of-type {\n",
       "        vertical-align: middle;\n",
       "    }\n",
       "\n",
       "    .dataframe tbody tr th {\n",
       "        vertical-align: top;\n",
       "    }\n",
       "\n",
       "    .dataframe thead th {\n",
       "        text-align: right;\n",
       "    }\n",
       "</style>\n",
       "<table border=\"1\" class=\"dataframe\">\n",
       "  <thead>\n",
       "    <tr style=\"text-align: right;\">\n",
       "      <th></th>\n",
       "      <th>date</th>\n",
       "      <th>code</th>\n",
       "      <th>open</th>\n",
       "      <th>high</th>\n",
       "      <th>low</th>\n",
       "      <th>close</th>\n",
       "      <th>volume</th>\n",
       "      <th>amount</th>\n",
       "    </tr>\n",
       "  </thead>\n",
       "  <tbody>\n",
       "    <tr>\n",
       "      <th>0</th>\n",
       "      <td>2015-10-13</td>\n",
       "      <td>600000</td>\n",
       "      <td>8.72</td>\n",
       "      <td>8.81</td>\n",
       "      <td>8.63</td>\n",
       "      <td>8.71</td>\n",
       "      <td>54698799.0</td>\n",
       "      <td>8.732909e+08</td>\n",
       "    </tr>\n",
       "    <tr>\n",
       "      <th>1</th>\n",
       "      <td>2015-10-14</td>\n",
       "      <td>600000</td>\n",
       "      <td>8.60</td>\n",
       "      <td>8.80</td>\n",
       "      <td>8.60</td>\n",
       "      <td>8.66</td>\n",
       "      <td>44297812.0</td>\n",
       "      <td>7.062118e+08</td>\n",
       "    </tr>\n",
       "    <tr>\n",
       "      <th>2</th>\n",
       "      <td>2015-10-26</td>\n",
       "      <td>600000</td>\n",
       "      <td>8.76</td>\n",
       "      <td>9.13</td>\n",
       "      <td>8.76</td>\n",
       "      <td>8.93</td>\n",
       "      <td>101041055.0</td>\n",
       "      <td>1.648965e+09</td>\n",
       "    </tr>\n",
       "    <tr>\n",
       "      <th>3</th>\n",
       "      <td>2015-10-27</td>\n",
       "      <td>600000</td>\n",
       "      <td>8.90</td>\n",
       "      <td>9.05</td>\n",
       "      <td>8.84</td>\n",
       "      <td>8.96</td>\n",
       "      <td>74933996.0</td>\n",
       "      <td>1.223267e+09</td>\n",
       "    </tr>\n",
       "    <tr>\n",
       "      <th>4</th>\n",
       "      <td>2015-10-28</td>\n",
       "      <td>600000</td>\n",
       "      <td>8.92</td>\n",
       "      <td>9.11</td>\n",
       "      <td>8.80</td>\n",
       "      <td>8.95</td>\n",
       "      <td>74226285.0</td>\n",
       "      <td>1.217461e+09</td>\n",
       "    </tr>\n",
       "    <tr>\n",
       "      <th>...</th>\n",
       "      <td>...</td>\n",
       "      <td>...</td>\n",
       "      <td>...</td>\n",
       "      <td>...</td>\n",
       "      <td>...</td>\n",
       "      <td>...</td>\n",
       "      <td>...</td>\n",
       "      <td>...</td>\n",
       "    </tr>\n",
       "    <tr>\n",
       "      <th>38377</th>\n",
       "      <td>2022-07-25</td>\n",
       "      <td>300999</td>\n",
       "      <td>47.32</td>\n",
       "      <td>47.44</td>\n",
       "      <td>46.79</td>\n",
       "      <td>47.08</td>\n",
       "      <td>5611200.0</td>\n",
       "      <td>2.646071e+08</td>\n",
       "    </tr>\n",
       "    <tr>\n",
       "      <th>38378</th>\n",
       "      <td>2022-07-26</td>\n",
       "      <td>300999</td>\n",
       "      <td>47.12</td>\n",
       "      <td>47.82</td>\n",
       "      <td>47.10</td>\n",
       "      <td>47.28</td>\n",
       "      <td>7147703.0</td>\n",
       "      <td>3.391151e+08</td>\n",
       "    </tr>\n",
       "    <tr>\n",
       "      <th>38379</th>\n",
       "      <td>2022-07-27</td>\n",
       "      <td>300999</td>\n",
       "      <td>47.12</td>\n",
       "      <td>47.25</td>\n",
       "      <td>46.33</td>\n",
       "      <td>46.66</td>\n",
       "      <td>8586181.0</td>\n",
       "      <td>4.009522e+08</td>\n",
       "    </tr>\n",
       "    <tr>\n",
       "      <th>38380</th>\n",
       "      <td>2022-07-28</td>\n",
       "      <td>300999</td>\n",
       "      <td>46.76</td>\n",
       "      <td>47.48</td>\n",
       "      <td>46.62</td>\n",
       "      <td>46.67</td>\n",
       "      <td>9997518.0</td>\n",
       "      <td>4.707382e+08</td>\n",
       "    </tr>\n",
       "    <tr>\n",
       "      <th>38381</th>\n",
       "      <td>2022-07-29</td>\n",
       "      <td>300999</td>\n",
       "      <td>46.67</td>\n",
       "      <td>46.82</td>\n",
       "      <td>45.70</td>\n",
       "      <td>45.73</td>\n",
       "      <td>10009734.0</td>\n",
       "      <td>4.623540e+08</td>\n",
       "    </tr>\n",
       "  </tbody>\n",
       "</table>\n",
       "<p>479764 rows × 8 columns</p>\n",
       "</div>"
      ],
      "text/plain": [
       "            date    code   open   high    low  close       volume  \\\n",
       "0     2015-10-13  600000   8.72   8.81   8.63   8.71   54698799.0   \n",
       "1     2015-10-14  600000   8.60   8.80   8.60   8.66   44297812.0   \n",
       "2     2015-10-26  600000   8.76   9.13   8.76   8.93  101041055.0   \n",
       "3     2015-10-27  600000   8.90   9.05   8.84   8.96   74933996.0   \n",
       "4     2015-10-28  600000   8.92   9.11   8.80   8.95   74226285.0   \n",
       "...          ...     ...    ...    ...    ...    ...          ...   \n",
       "38377 2022-07-25  300999  47.32  47.44  46.79  47.08    5611200.0   \n",
       "38378 2022-07-26  300999  47.12  47.82  47.10  47.28    7147703.0   \n",
       "38379 2022-07-27  300999  47.12  47.25  46.33  46.66    8586181.0   \n",
       "38380 2022-07-28  300999  46.76  47.48  46.62  46.67    9997518.0   \n",
       "38381 2022-07-29  300999  46.67  46.82  45.70  45.73   10009734.0   \n",
       "\n",
       "             amount  \n",
       "0      8.732909e+08  \n",
       "1      7.062118e+08  \n",
       "2      1.648965e+09  \n",
       "3      1.223267e+09  \n",
       "4      1.217461e+09  \n",
       "...             ...  \n",
       "38377  2.646071e+08  \n",
       "38378  3.391151e+08  \n",
       "38379  4.009522e+08  \n",
       "38380  4.707382e+08  \n",
       "38381  4.623540e+08  \n",
       "\n",
       "[479764 rows x 8 columns]"
      ]
     },
     "execution_count": 5,
     "metadata": {},
     "output_type": "execute_result"
    }
   ],
   "source": [
    "hs300"
   ]
  },
  {
   "cell_type": "code",
   "execution_count": 10,
   "metadata": {},
   "outputs": [],
   "source": [
    "hs300.to_csv('hs300.csv')"
   ]
  }
 ],
 "metadata": {
  "kernelspec": {
   "display_name": "Python 3.8.8 ('base')",
   "language": "python",
   "name": "python3"
  },
  "language_info": {
   "codemirror_mode": {
    "name": "ipython",
    "version": 3
   },
   "file_extension": ".py",
   "mimetype": "text/x-python",
   "name": "python",
   "nbconvert_exporter": "python",
   "pygments_lexer": "ipython3",
   "version": "3.8.8 (default, Apr 13 2021, 15:08:03) [MSC v.1916 64 bit (AMD64)]"
  },
  "orig_nbformat": 4,
  "vscode": {
   "interpreter": {
    "hash": "5179d32cf6ec497baf3f8a3ef987cc77c5d2dc691fdde20a56316522f61a7323"
   }
  }
 },
 "nbformat": 4,
 "nbformat_minor": 2
}
