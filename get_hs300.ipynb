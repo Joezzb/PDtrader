{
 "cells": [
  {
   "cell_type": "code",
   "execution_count": 4,
   "metadata": {},
   "outputs": [],
   "source": [
    "import baostock as bs\n",
    "import pandas as pd\n",
    "import numpy as np"
   ]
  },
  {
   "cell_type": "code",
   "execution_count": 8,
   "metadata": {},
   "outputs": [],
   "source": [
    "years = [2014,2015,2016,2017,2018,2019,2020,2021,2022]\n",
    "month = (['03' ,'10'])"
   ]
  },
  {
   "cell_type": "code",
   "execution_count": 9,
   "metadata": {},
   "outputs": [
    {
     "name": "stdout",
     "output_type": "stream",
     "text": [
      "login success!\n",
      "login respond error_code:0\n",
      "login respond  error_msg:success\n",
      "query_hs300 error_code:0\n",
      "query_hs300  error_msg:success\n",
      "query_hs300 error_code:0\n",
      "query_hs300  error_msg:success\n",
      "query_hs300 error_code:0\n",
      "query_hs300  error_msg:success\n",
      "query_hs300 error_code:0\n",
      "query_hs300  error_msg:success\n",
      "query_hs300 error_code:0\n",
      "query_hs300  error_msg:success\n",
      "query_hs300 error_code:0\n",
      "query_hs300  error_msg:success\n",
      "query_hs300 error_code:0\n",
      "query_hs300  error_msg:success\n",
      "query_hs300 error_code:0\n",
      "query_hs300  error_msg:success\n",
      "query_hs300 error_code:0\n",
      "query_hs300  error_msg:success\n",
      "query_hs300 error_code:0\n",
      "query_hs300  error_msg:success\n",
      "query_hs300 error_code:0\n",
      "query_hs300  error_msg:success\n",
      "query_hs300 error_code:0\n",
      "query_hs300  error_msg:success\n",
      "query_hs300 error_code:0\n",
      "query_hs300  error_msg:success\n",
      "query_hs300 error_code:0\n",
      "query_hs300  error_msg:success\n",
      "query_hs300 error_code:0\n",
      "query_hs300  error_msg:success\n",
      "query_hs300 error_code:0\n",
      "query_hs300  error_msg:success\n",
      "query_hs300 error_code:0\n",
      "query_hs300  error_msg:success\n",
      "query_hs300 error_code:0\n",
      "query_hs300  error_msg:success\n",
      "      updateDate       code code_name\n",
      "0     2014-03-10  sh.600000      浦发银行\n",
      "1     2014-03-10  sh.600008      首创股份\n",
      "2     2014-03-10  sh.600009      上海机场\n",
      "3     2014-03-10  sh.600010      包钢股份\n",
      "4     2014-03-10  sh.600011      华能国际\n",
      "...          ...        ...       ...\n",
      "5395  2022-08-01  sz.300896       爱美客\n",
      "5396  2022-08-01  sz.300919      中伟股份\n",
      "5397  2022-08-01  sz.300957       贝泰妮\n",
      "5398  2022-08-01  sz.300979      华利集团\n",
      "5399  2022-08-01  sz.300999       金龙鱼\n",
      "\n",
      "[5400 rows x 3 columns]\n",
      "logout success!\n"
     ]
    },
    {
     "data": {
      "text/plain": [
       "<baostock.data.resultset.ResultData at 0x1ad09145e50>"
      ]
     },
     "execution_count": 9,
     "metadata": {},
     "output_type": "execute_result"
    }
   ],
   "source": [
    "# 登陆系统\n",
    "lg = bs.login()\n",
    "# 显示登陆返回信息\n",
    "print('login respond error_code:'+lg.error_code)\n",
    "print('login respond  error_msg:'+lg.error_msg)\n",
    "\n",
    "# 打印结果集\n",
    "hs300_stocks = []\n",
    "# 获取沪深300成分股\n",
    "for i in years:\n",
    "    for j in month:\n",
    "        rs = bs.query_hs300_stocks(str(i)+'-'+j+'-15')\n",
    "        print('query_hs300 error_code:'+rs.error_code)\n",
    "        print('query_hs300  error_msg:'+rs.error_msg)\n",
    "        while (rs.error_code == '0') & rs.next():\n",
    "            # 获取一条记录，将记录合并在一起\n",
    "            hs300_stocks.append(rs.get_row_data())\n",
    "        result = pd.DataFrame(hs300_stocks, columns=rs.fields)\n",
    "# 结果集输出到csv文件\n",
    "result.to_csv(\"D:/hs300_stocks.csv\", encoding=\"gbk\", index=False)\n",
    "print(result)\n",
    "\n",
    "# 登出系统\n",
    "bs.logout()"
   ]
  }
 ],
 "metadata": {
  "kernelspec": {
   "display_name": "Python 3.8.8 ('base')",
   "language": "python",
   "name": "python3"
  },
  "language_info": {
   "codemirror_mode": {
    "name": "ipython",
    "version": 3
   },
   "file_extension": ".py",
   "mimetype": "text/x-python",
   "name": "python",
   "nbconvert_exporter": "python",
   "pygments_lexer": "ipython3",
   "version": "3.8.8"
  },
  "orig_nbformat": 4,
  "vscode": {
   "interpreter": {
    "hash": "5179d32cf6ec497baf3f8a3ef987cc77c5d2dc691fdde20a56316522f61a7323"
   }
  }
 },
 "nbformat": 4,
 "nbformat_minor": 2
}
